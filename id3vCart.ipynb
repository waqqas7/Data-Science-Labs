{
 "cells": [
  {
   "cell_type": "code",
   "execution_count": 1,
   "metadata": {},
   "outputs": [],
   "source": [
    "import pandas as pd\n",
    "import sklearn.metrics as met\n",
    "from sklearn.tree import DecisionTreeClassifier\n",
    "from sklearn import preprocessing\n",
    "from sklearn.model_selection import train_test_split"
   ]
  },
  {
   "cell_type": "code",
   "execution_count": 2,
   "metadata": {},
   "outputs": [
    {
     "name": "stdout",
     "output_type": "stream",
     "text": [
      "   no-recurrence-events  30-39  premeno  30-34  0-2  no  3   left   left_low  \\\n",
      "0  no-recurrence-events  40-49  premeno  20-24  0-2  no  2  right   right_up   \n",
      "1  no-recurrence-events  40-49  premeno  20-24  0-2  no  2   left   left_low   \n",
      "2  no-recurrence-events  60-69     ge40  15-19  0-2  no  2  right    left_up   \n",
      "3  no-recurrence-events  40-49  premeno    0-4  0-2  no  2  right  right_low   \n",
      "4  no-recurrence-events  60-69     ge40  15-19  0-2  no  2   left   left_low   \n",
      "\n",
      "  no.1  \n",
      "0   no  \n",
      "1   no  \n",
      "2   no  \n",
      "3   no  \n",
      "4   no  \n"
     ]
    }
   ],
   "source": [
    "cancer = pd.read_csv('breast-cancer.data', sep=',')\n",
    "df = pd.DataFrame(cancer)\n",
    "print(df.head())"
   ]
  },
  {
   "cell_type": "code",
   "execution_count": 3,
   "metadata": {},
   "outputs": [],
   "source": [
    "le = preprocessing.LabelEncoder()\n",
    "id3 = DecisionTreeClassifier(criterion = 'entropy')\n",
    "cart = DecisionTreeClassifier(criterion = 'gini')"
   ]
  },
  {
   "cell_type": "code",
   "execution_count": 4,
   "metadata": {},
   "outputs": [
    {
     "name": "stdout",
     "output_type": "stream",
     "text": [
      "[[0 2 2 ... 1 1 5]\n",
      " [0 2 2 ... 1 0 2]\n",
      " [0 4 0 ... 1 1 3]\n",
      " ...\n",
      " [1 4 0 ... 0 1 3]\n",
      " [1 2 0 ... 2 0 2]\n",
      " [1 3 0 ... 2 0 2]]\n",
      "[0 0 0 0 0 0 0 0 0 0 0 0 0 0 0 0 0 0 0 0 0 0 0 0 0 0 0 0 0 0 0 0 0 0 0 0 0\n",
      " 0 0 0 0 0 0 0 0 0 0 0 0 0 0 0 0 0 0 0 0 0 0 0 0 0 0 0 0 0 0 0 0 0 0 0 0 0\n",
      " 0 0 0 0 0 0 0 0 0 0 0 0 0 0 0 0 0 0 0 0 0 0 0 0 0 0 0 0 0 0 0 0 0 0 0 0 0\n",
      " 0 0 0 0 0 0 0 0 0 0 0 0 0 0 0 1 0 1 1 1 0 0 1 0 1 1 1 0 0 0 0 1 0 1 1 1 0\n",
      " 0 0 0 0 1 0 1 0 0 0 0 1 0 1 1 1 0 0 1 0 1 1 0 0 0 1 1 0 0 1 1 1 1 1 1 1 1\n",
      " 0 1 0 0 1 1 0 0 1 0 0 1 1 0 0 0 0 0 0 0 0 0 0 0 0 0 0 0 0 0 0 0 0 0 0 0 1\n",
      " 0 1 1 0 1 0 1 0 0 1 1 1 1 0 0 0 1 1 0 1 0 1 1 1 1 0 0 0 1 0 0 0 0 1 1 1 0\n",
      " 0 1 0 0 0 0 0 1 0 1 0 1 0 1 1 0 1 1 0 1 1 0 1 0 0 0]\n",
      "[[0 2 2 ... 1 0 3]\n",
      " [0 2 2 ... 1 0 2]\n",
      " [0 3 2 ... 0 0 2]\n",
      " ...\n",
      " [0 3 2 ... 1 1 4]\n",
      " [1 2 2 ... 1 1 2]\n",
      " [0 2 2 ... 1 0 2]]\n",
      "[0 1 0 0 0 1 0 1 0 0 0 0 1 0 0 0 0 0 0 0 0 0 0 1 0 0 0 0 0 0 0 1 0 0 0 0 0\n",
      " 0 0 0 0 1 0 1 0 0 1 0 0 1 1 0 1 0 1 0 1 0 0 0 0 0 1 0 1 0 0 0 0 0 0 0 0 0\n",
      " 0 0 0 0 0 0 0 0 0 0 0 0 0 0 1 0 0 0 0 1 0 0 1 0 0 0 0 0 0 0 0 0 0 0 0 0 0\n",
      " 1 0 0 0 0 0 0 1 1 1 0 0 1 0 0 1 0 1 1 0 1 0 0 0 0 0 0 0 1 1 0 0 0 0 1 0 0\n",
      " 1 0 0 0 0 1 0 1 1 0 1 0 1 1 0 0 0 1 0 0 0 0 1 0 0 0 1 0 0 0 1 0 0 1 0 1 0\n",
      " 1 1 0 1 0 0 0 0 0 1 0 0 0 0 0 1 1 1 1 0 0 0 0 0 0 0 0 0 0 0 0 0 0 0 0 1 0\n",
      " 0 0 0 0 0 1 0 0 0 0 0 0 0 0 0 0 0 1 0 0 0 0 0 0 1 0 0 1 1 1 0 1 0 0 0]\n"
     ]
    }
   ],
   "source": [
    "X = df.iloc[:,:-1].values\n",
    "Y = df.iloc[:,-1].values\n",
    "for i in range(9):\n",
    "    le.fit(list(set(df.iloc[:,i].values)))\n",
    "    a=[]\n",
    "    for j in range(len(X)):\n",
    "        a.append(X[j][i])\n",
    "    a = le.transform(a)\n",
    "    for j in range(len(X)):\n",
    "        X[j][i] = a[j]\n",
    "        \n",
    "le.fit(list(set(df.iloc[:,-1].values)))\n",
    "a=[]\n",
    "for j in range(len(Y)):\n",
    "    a.append(Y[j])\n",
    "a = le.transform(a)    \n",
    "for j in range(len(Y)):\n",
    "    Y[j] = a[j]\n",
    "Y = Y.astype('int')\n",
    "print(X)\n",
    "print(Y)\n",
    "Xtrain, Xtest, Ytrain, Ytest = train_test_split(X, Y, test_size = int(0.1*len(Y)), random_state=1)\n",
    "print(Xtrain)\n",
    "print(Ytrain)"
   ]
  },
  {
   "cell_type": "code",
   "execution_count": 7,
   "metadata": {},
   "outputs": [],
   "source": [
    "id3_mod = id3.fit(Xtrain, Ytrain)\n",
    "cart_mod = cart.fit(Xtrain, Ytrain)\n",
    "Ypred_id3 = id3_mod.predict(Xtest)\n",
    "Ypred_cart = cart_mod.predict(Xtest)"
   ]
  },
  {
   "cell_type": "code",
   "execution_count": 9,
   "metadata": {},
   "outputs": [
    {
     "name": "stdout",
     "output_type": "stream",
     "text": [
      "Acc= 0.75\n",
      "Inacc= 0.25\n",
      "Precision= 0.6\n",
      "Fmeasure= 0.4615384615384615\n",
      "Recall= 0.375\n"
     ]
    }
   ],
   "source": [
    "print(\"Acc=\",met.accuracy_score(Ytest,Ypred_id3))\n",
    "print(\"Inacc=\",1-met.accuracy_score(Ytest,Ypred_id3))\n",
    "print(\"Precision=\",met.precision_score(Ytest,Ypred_id3))\n",
    "print(\"Fmeasure=\",met.f1_score(Ytest,Ypred_id3))\n",
    "print(\"Recall=\",met.recall_score(Ytest,Ypred_id3))"
   ]
  },
  {
   "cell_type": "code",
   "execution_count": 10,
   "metadata": {},
   "outputs": [
    {
     "name": "stdout",
     "output_type": "stream",
     "text": [
      "Acc= 0.75\n",
      "Inacc= 0.25\n",
      "Precision= 0.6\n",
      "Fmeasure= 0.4615384615384615\n",
      "Recall= 0.375\n"
     ]
    }
   ],
   "source": [
    "print(\"Acc=\",met.accuracy_score(Ytest,Ypred_cart))\n",
    "print(\"Inacc=\",1-met.accuracy_score(Ytest,Ypred_cart))\n",
    "print(\"Precision=\",met.precision_score(Ytest,Ypred_cart))\n",
    "print(\"Fmeasure=\",met.f1_score(Ytest,Ypred_cart))\n",
    "print(\"Recall=\",met.recall_score(Ytest,Ypred_cart))"
   ]
  },
  {
   "cell_type": "code",
   "execution_count": null,
   "metadata": {},
   "outputs": [],
   "source": []
  }
 ],
 "metadata": {
  "kernelspec": {
   "display_name": "Python 3",
   "language": "python",
   "name": "python3"
  },
  "language_info": {
   "codemirror_mode": {
    "name": "ipython",
    "version": 3
   },
   "file_extension": ".py",
   "mimetype": "text/x-python",
   "name": "python",
   "nbconvert_exporter": "python",
   "pygments_lexer": "ipython3",
   "version": "3.8.5"
  }
 },
 "nbformat": 4,
 "nbformat_minor": 4
}
